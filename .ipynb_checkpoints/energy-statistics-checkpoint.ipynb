{
 "cells": [
  {
   "cell_type": "markdown",
   "metadata": {},
   "source": [
    "# International Energy Statistics\n",
    "This project aims to identify trends in international energy usage statistics, with a particular emphasis on renewables (and nuclear)."
   ]
  },
  {
   "cell_type": "markdown",
   "metadata": {},
   "source": [
    "Import the standard suite of libraries for data analysis:"
   ]
  },
  {
   "cell_type": "code",
   "execution_count": 1,
   "metadata": {},
   "outputs": [],
   "source": [
    "import numpy as np\n",
    "import matplotlib.pyplot as plt\n",
    "import seaborn as sns\n",
    "import pandas as pd"
   ]
  },
  {
   "cell_type": "markdown",
   "metadata": {},
   "source": [
    "The data is stored in the root directory in the file `all_energy_statistics.csv`."
   ]
  },
  {
   "cell_type": "code",
   "execution_count": 2,
   "metadata": {},
   "outputs": [],
   "source": [
    "energy_data = pd.read_csv('all_energy_statistics.csv')"
   ]
  },
  {
   "cell_type": "code",
   "execution_count": 6,
   "metadata": {},
   "outputs": [
    {
     "data": {
      "text/html": [
       "<div>\n",
       "<style scoped>\n",
       "    .dataframe tbody tr th:only-of-type {\n",
       "        vertical-align: middle;\n",
       "    }\n",
       "\n",
       "    .dataframe tbody tr th {\n",
       "        vertical-align: top;\n",
       "    }\n",
       "\n",
       "    .dataframe thead th {\n",
       "        text-align: right;\n",
       "    }\n",
       "</style>\n",
       "<table border=\"1\" class=\"dataframe\">\n",
       "  <thead>\n",
       "    <tr style=\"text-align: right;\">\n",
       "      <th></th>\n",
       "      <th>country_or_area</th>\n",
       "      <th>commodity_transaction</th>\n",
       "      <th>year</th>\n",
       "      <th>unit</th>\n",
       "      <th>quantity</th>\n",
       "      <th>category</th>\n",
       "    </tr>\n",
       "  </thead>\n",
       "  <tbody>\n",
       "    <tr>\n",
       "      <td>0</td>\n",
       "      <td>Austria</td>\n",
       "      <td>Additives and Oxygenates - Exports</td>\n",
       "      <td>1996</td>\n",
       "      <td>Metric tons,  thousand</td>\n",
       "      <td>5.0</td>\n",
       "      <td>additives_and_oxygenates</td>\n",
       "    </tr>\n",
       "    <tr>\n",
       "      <td>1</td>\n",
       "      <td>Austria</td>\n",
       "      <td>Additives and Oxygenates - Exports</td>\n",
       "      <td>1995</td>\n",
       "      <td>Metric tons,  thousand</td>\n",
       "      <td>17.0</td>\n",
       "      <td>additives_and_oxygenates</td>\n",
       "    </tr>\n",
       "    <tr>\n",
       "      <td>2</td>\n",
       "      <td>Belgium</td>\n",
       "      <td>Additives and Oxygenates - Exports</td>\n",
       "      <td>2014</td>\n",
       "      <td>Metric tons,  thousand</td>\n",
       "      <td>0.0</td>\n",
       "      <td>additives_and_oxygenates</td>\n",
       "    </tr>\n",
       "    <tr>\n",
       "      <td>3</td>\n",
       "      <td>Belgium</td>\n",
       "      <td>Additives and Oxygenates - Exports</td>\n",
       "      <td>2013</td>\n",
       "      <td>Metric tons,  thousand</td>\n",
       "      <td>0.0</td>\n",
       "      <td>additives_and_oxygenates</td>\n",
       "    </tr>\n",
       "    <tr>\n",
       "      <td>4</td>\n",
       "      <td>Belgium</td>\n",
       "      <td>Additives and Oxygenates - Exports</td>\n",
       "      <td>2012</td>\n",
       "      <td>Metric tons,  thousand</td>\n",
       "      <td>35.0</td>\n",
       "      <td>additives_and_oxygenates</td>\n",
       "    </tr>\n",
       "  </tbody>\n",
       "</table>\n",
       "</div>"
      ],
      "text/plain": [
       "  country_or_area               commodity_transaction  year  \\\n",
       "0         Austria  Additives and Oxygenates - Exports  1996   \n",
       "1         Austria  Additives and Oxygenates - Exports  1995   \n",
       "2         Belgium  Additives and Oxygenates - Exports  2014   \n",
       "3         Belgium  Additives and Oxygenates - Exports  2013   \n",
       "4         Belgium  Additives and Oxygenates - Exports  2012   \n",
       "\n",
       "                     unit  quantity                  category  \n",
       "0  Metric tons,  thousand       5.0  additives_and_oxygenates  \n",
       "1  Metric tons,  thousand      17.0  additives_and_oxygenates  \n",
       "2  Metric tons,  thousand       0.0  additives_and_oxygenates  \n",
       "3  Metric tons,  thousand       0.0  additives_and_oxygenates  \n",
       "4  Metric tons,  thousand      35.0  additives_and_oxygenates  "
      ]
     },
     "execution_count": 6,
     "metadata": {},
     "output_type": "execute_result"
    }
   ],
   "source": [
    "energy_data.head()"
   ]
  },
  {
   "cell_type": "code",
   "execution_count": 3,
   "metadata": {},
   "outputs": [],
   "source": [
    "energy_data.drop(\"quantity_footnotes\", axis=1, inplace=True)"
   ]
  },
  {
   "cell_type": "code",
   "execution_count": 4,
   "metadata": {},
   "outputs": [],
   "source": [
    "def select_country(country):\n",
    "    \"\"\"Returns a dataframe of all energy data for a country sorted by year, and a list of all the years in the data set\"\"\"\n",
    "    data = energy_data[energy_data.country_or_area.isin(country)].sort_values('year').reset_index()\n",
    "    data.drop('index', axis=1, inplace=True)\n",
    "    return data, data.year.unique().tolist()"
   ]
  },
  {
   "cell_type": "code",
   "execution_count": 5,
   "metadata": {},
   "outputs": [],
   "source": [
    "def production(year_range, energy_type, data):\n",
    "    \"\"\"Returns a list of total energy produced for a given type in a range of years\"\"\"\n",
    "    production = []\n",
    "    for year in year_range:\n",
    "        yr = data[data.year == year]\n",
    "        quantity = yr[yr.commodity_transaction == energy_type]['quantity']\n",
    "        if len(quantity) == 0:\n",
    "            production.append(0)\n",
    "        else:\n",
    "            production.append(quantity.values.item())\n",
    "        \n",
    "    return production\n",
    "                "
   ]
  },
  {
   "cell_type": "code",
   "execution_count": null,
   "metadata": {
    "scrolled": true
   },
   "outputs": [],
   "source": [
    "print(*energy_data.category.unique(), sep=\"\\n\")"
   ]
  },
  {
   "cell_type": "code",
   "execution_count": 15,
   "metadata": {},
   "outputs": [],
   "source": [
    "all_years = sorted(energy_data.year.unique().tolist())"
   ]
  },
  {
   "cell_type": "markdown",
   "metadata": {},
   "source": [
    "Below, we define a boolean array to filter by an energy type, in this case `Electricity - total wind production`"
   ]
  },
  {
   "cell_type": "code",
   "execution_count": 10,
   "metadata": {},
   "outputs": [],
   "source": [
    "is_wind_energy = energy_data['commodity_transaction'] == 'Electricity - total wind production'"
   ]
  },
  {
   "cell_type": "code",
   "execution_count": 21,
   "metadata": {},
   "outputs": [],
   "source": [
    "all_wind_energy = energy_data[is_wind_energy].sort_values('year')"
   ]
  },
  {
   "cell_type": "code",
   "execution_count": 23,
   "metadata": {},
   "outputs": [
    {
     "data": {
      "text/html": [
       "<div>\n",
       "<style scoped>\n",
       "    .dataframe tbody tr th:only-of-type {\n",
       "        vertical-align: middle;\n",
       "    }\n",
       "\n",
       "    .dataframe tbody tr th {\n",
       "        vertical-align: top;\n",
       "    }\n",
       "\n",
       "    .dataframe thead th {\n",
       "        text-align: right;\n",
       "    }\n",
       "</style>\n",
       "<table border=\"1\" class=\"dataframe\">\n",
       "  <thead>\n",
       "    <tr style=\"text-align: right;\">\n",
       "      <th></th>\n",
       "      <th>country_or_area</th>\n",
       "      <th>commodity_transaction</th>\n",
       "      <th>year</th>\n",
       "      <th>unit</th>\n",
       "      <th>quantity</th>\n",
       "      <th>category</th>\n",
       "    </tr>\n",
       "  </thead>\n",
       "  <tbody>\n",
       "    <tr>\n",
       "      <td>1189141</td>\n",
       "      <td>Portugal</td>\n",
       "      <td>Electricity - total wind production</td>\n",
       "      <td>1990</td>\n",
       "      <td>Kilowatt-hours, million</td>\n",
       "      <td>1.0</td>\n",
       "      <td>wind_electricity</td>\n",
       "    </tr>\n",
       "    <tr>\n",
       "      <td>1188785</td>\n",
       "      <td>Japan</td>\n",
       "      <td>Electricity - total wind production</td>\n",
       "      <td>1990</td>\n",
       "      <td>Kilowatt-hours, million</td>\n",
       "      <td>0.0</td>\n",
       "      <td>wind_electricity</td>\n",
       "    </tr>\n",
       "    <tr>\n",
       "      <td>1188420</td>\n",
       "      <td>Denmark</td>\n",
       "      <td>Electricity - total wind production</td>\n",
       "      <td>1990</td>\n",
       "      <td>Kilowatt-hours, million</td>\n",
       "      <td>610.0</td>\n",
       "      <td>wind_electricity</td>\n",
       "    </tr>\n",
       "    <tr>\n",
       "      <td>1189175</td>\n",
       "      <td>Romania</td>\n",
       "      <td>Electricity - total wind production</td>\n",
       "      <td>1990</td>\n",
       "      <td>Kilowatt-hours, million</td>\n",
       "      <td>1.0</td>\n",
       "      <td>wind_electricity</td>\n",
       "    </tr>\n",
       "    <tr>\n",
       "      <td>1188235</td>\n",
       "      <td>Belgium</td>\n",
       "      <td>Electricity - total wind production</td>\n",
       "      <td>1990</td>\n",
       "      <td>Kilowatt-hours, million</td>\n",
       "      <td>7.0</td>\n",
       "      <td>wind_electricity</td>\n",
       "    </tr>\n",
       "  </tbody>\n",
       "</table>\n",
       "</div>"
      ],
      "text/plain": [
       "        country_or_area                commodity_transaction  year  \\\n",
       "1189141        Portugal  Electricity - total wind production  1990   \n",
       "1188785           Japan  Electricity - total wind production  1990   \n",
       "1188420         Denmark  Electricity - total wind production  1990   \n",
       "1189175         Romania  Electricity - total wind production  1990   \n",
       "1188235         Belgium  Electricity - total wind production  1990   \n",
       "\n",
       "                            unit  quantity          category  \n",
       "1189141  Kilowatt-hours, million       1.0  wind_electricity  \n",
       "1188785  Kilowatt-hours, million       0.0  wind_electricity  \n",
       "1188420  Kilowatt-hours, million     610.0  wind_electricity  \n",
       "1189175  Kilowatt-hours, million       1.0  wind_electricity  \n",
       "1188235  Kilowatt-hours, million       7.0  wind_electricity  "
      ]
     },
     "execution_count": 23,
     "metadata": {},
     "output_type": "execute_result"
    }
   ],
   "source": [
    "all_wind_energy.head()"
   ]
  },
  {
   "cell_type": "code",
   "execution_count": 32,
   "metadata": {},
   "outputs": [],
   "source": [
    "US_total = energy_data[energy_data.country_or_area == \"United States\"].sort_values(\"year\")"
   ]
  },
  {
   "cell_type": "code",
   "execution_count": 27,
   "metadata": {},
   "outputs": [],
   "source": [
    "US_wind = all_wind_energy[all_wind_energy.country_or_area == \"United States\"].sort_values(\"year\")"
   ]
  },
  {
   "cell_type": "code",
   "execution_count": 31,
   "metadata": {},
   "outputs": [
    {
     "data": {
      "text/plain": [
       "Text(0.5, 1.0, 'Total Wind Energy Produced - United States')"
      ]
     },
     "execution_count": 31,
     "metadata": {},
     "output_type": "execute_result"
    },
    {
     "data": {
      "image/png": "[encoded data removed]",
      "text/plain": [
       "<Figure size 432x288 with 1 Axes>"
      ]
     },
     "metadata": {
      "needs_background": "light"
     },
     "output_type": "display_data"
    }
   ],
   "source": [
    "plt.figure()\n",
    "plt.plot(US_wind['year'], US_wind['quantity'])\n",
    "plt.title(\"Total Wind Energy Produced - United States\")"
   ]
  },
  {
   "cell_type": "code",
   "execution_count": 33,
   "metadata": {},
   "outputs": [],
   "source": [
    "US_solar = US_total[US_total.commodity_transaction == \"Electricity - total solar production\"]"
   ]
  },
  {
   "cell_type": "code",
   "execution_count": 44,
   "metadata": {},
   "outputs": [
    {
     "data": {
      "text/plain": [
       "Text(0, 0.5, 'MkWh')"
      ]
     },
     "execution_count": 44,
     "metadata": {},
     "output_type": "execute_result"
    },
    {
     "data": {
      "image/png": "[encoded data removed]",
      "text/plain": [
       "<Figure size 432x288 with 1 Axes>"
      ]
     },
     "metadata": {
      "needs_background": "light"
     },
     "output_type": "display_data"
    }
   ],
   "source": [
    "plt.figure()\n",
    "plt.plot(US_solar['year'], US_solar['quantity'])\n",
    "plt.ylabel('MkWh')"
   ]
  },
  {
   "cell_type": "code",
   "execution_count": null,
   "metadata": {},
   "outputs": [],
   "source": []
  }
 ],
 "metadata": {
  "kernelspec": {
   "display_name": "Python 3",
   "language": "python",
   "name": "python3"
  },
  "language_info": {
   "codemirror_mode": {
    "name": "ipython",
    "version": 3
   },
   "file_extension": ".py",
   "mimetype": "text/x-python",
   "name": "python",
   "nbconvert_exporter": "python",
   "pygments_lexer": "ipython3",
   "version": "3.7.3"
  }
 },
 "nbformat": 4,
 "nbformat_minor": 2
}
